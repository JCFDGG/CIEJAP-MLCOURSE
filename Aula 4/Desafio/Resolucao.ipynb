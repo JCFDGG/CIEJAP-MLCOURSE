{
 "cells": [
  {
   "cell_type": "markdown",
   "id": "a3bd8be8",
   "metadata": {},
   "source": [
    "# Bibliotecas necessárias\n"
   ]
  },
  {
   "cell_type": "code",
   "execution_count": null,
   "id": "8350382b",
   "metadata": {},
   "outputs": [],
   "source": [
    "def preprocess_pipeline(df: pandas.DataFrame) -> pandas.DataFrame:\n",
    "    \"\"\"\n",
    "    Preprocessa a DataFrame (seja test ou train). \n",
    "\n",
    "    Args:\n",
    "        df (pandas.DataFrame): DataFrame a ser preprocessado.\n",
    "\n",
    "    Returns:\n",
    "        pandas.DataFrame: DataFrame preprocessado.\n",
    "    \"\"\"\n",
    "\n",
    "\n",
    "    return df_final"
   ]
  }
 ],
 "metadata": {
  "language_info": {
   "name": "python"
  }
 },
 "nbformat": 4,
 "nbformat_minor": 5
}
