{
 "cells": [
  {
   "cell_type": "markdown",
   "id": "6a03f9a1",
   "metadata": {},
   "source": [
    "8 - Considerando os datasets test.csv e train.csv:\n",
    "\n",
    "Faça a análise de dados, faça tratamento de nulos (não exclua nenhuma linha, faça substituições e explique porque fez, mas se tiver um número muito grande de nulos em uma coluna, pode desconsiderar), simplifique o dataset (SibSp e Parch trazem informações se estavam acompanhados ou não, o que pode ser apenas uma coluna), faça o processo de dummie, considere deletar colunas com informações de baixa correlação (o nome impacta se a pessoa sobreviveu ou não), exclua informações repetidas (se é homem, não vai ser mulher, faz sentido deixar os dois?). Não esqueça que o que for feito no dataset de treino precisa ser feito da mesma maneira para o de teste."
   ]
  },
  {
   "cell_type": "markdown",
   "id": "e92a5234",
   "metadata": {},
   "source": [
    "Crie \"samples\" do dataset e faça o execute as mesmas funções"
   ]
  }
 ],
 "metadata": {
  "language_info": {
   "name": "python"
  }
 },
 "nbformat": 4,
 "nbformat_minor": 5
}
